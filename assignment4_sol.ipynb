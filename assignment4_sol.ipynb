{
 "cells": [
  {
   "cell_type": "markdown",
   "id": "74ad857f",
   "metadata": {},
   "source": [
    "1.1 Write a Python Program(with class concepts) to find the area of the triangle using the below \n",
    "formula.\n",
    "area = (s*(s-a)*(s-b)*(s-c)) ** 0.5\n",
    "Function to take the length of the sides of triangle from user should be defined in the parent \n",
    "class and function to calculate the area should be defined in subclass"
   ]
  },
  {
   "cell_type": "code",
   "execution_count": 3,
   "id": "6afb2887",
   "metadata": {},
   "outputs": [
    {
     "name": "stdout",
     "output_type": "stream",
     "text": [
      "Enter a length of side i: 2\n",
      "Enter a length of side j: 3\n",
      "Enter a length of side k: 4\n",
      "Area of triangle is 2.9047375096555625\n"
     ]
    }
   ],
   "source": [
    "class Triangle:\n",
    "    def __init__(self,i,j,k):\n",
    "        self.i=i\n",
    "        self.j=j\n",
    "        self.k=k\n",
    "    def area(self):\n",
    "        s=(self.i+self.j+self.k)/2\n",
    "        area=(s*(s-self.i)*(s-self.j)*(s-self.k))**0.5\n",
    "        return area\n",
    "\n",
    "i=float(input(\"Enter a length of side i: \"))\n",
    "j=float(input(\"Enter a length of side j: \"))\n",
    "k=float(input(\"Enter a length of side k: \"))\n",
    "t=Triangle(i,j,k)\n",
    "\n",
    "print(\"Area of triangle is {}\".format(t.area()))"
   ]
  },
  {
   "cell_type": "markdown",
   "id": "13700d58",
   "metadata": {},
   "source": [
    "1.2 Write a function filter_long_words() that takes a list of words and an integer n and returns \n",
    "the list of words that are longer than n."
   ]
  },
  {
   "cell_type": "code",
   "execution_count": 5,
   "id": "d784c1b3",
   "metadata": {},
   "outputs": [
    {
     "name": "stdout",
     "output_type": "stream",
     "text": [
      "Enter a value of n: 3\n",
      "List of words longer than 3 is ['srilatha shetti', 'sree', 'latha', 'shetti']\n"
     ]
    }
   ],
   "source": [
    "def  filter_long_words(list1,n):\n",
    "    list2=[]\n",
    "    for i in range(0,len(list1)):\n",
    "        if len(list1[i])>n:\n",
    "            list2.append(list1[i])\n",
    "    return list2\n",
    "\n",
    "list3=['srilatha shetti','sree','latha','shetti','ser']\n",
    "n=int(input(\"Enter a value of n: \"))\n",
    "data=filter_long_words(list3,n)\n",
    "print(\"List of words longer than {} is {}\".format(n,data))\n"
   ]
  },
  {
   "cell_type": "markdown",
   "id": "4599b3ea",
   "metadata": {},
   "source": [
    "2.1 Write a Python program using function concept that maps list of words into a list of integers \n",
    "representing the lengths of the corresponding words.\n",
    "Hint: If a list [ ab,cde,erty] is passed on to the python function output should come as [2,3,4]\n",
    "Here 2,3 and 4 are the lengths of the words in the list."
   ]
  },
  {
   "cell_type": "code",
   "execution_count": 6,
   "id": "ac8df61f",
   "metadata": {},
   "outputs": [
    {
     "name": "stdout",
     "output_type": "stream",
     "text": [
      "[2, 3, 4]\n"
     ]
    }
   ],
   "source": [
    "def len_word(list1):\n",
    "    res_list=[]\n",
    "    for i in range(0,len(list1)):\n",
    "        res_list.append(len(list1[i]))\n",
    "    return res_list\n",
    "list2=['ab','cde','erty']\n",
    "list_length=len_word(list2)\n",
    "print(list_length)\n",
    "    "
   ]
  },
  {
   "cell_type": "markdown",
   "id": "8e264513",
   "metadata": {},
   "source": [
    "2.2 Write a Python function which takes a character (i.e. a string of length 1) and returns True if \n",
    "it is a vowel, False otherwise."
   ]
  },
  {
   "cell_type": "code",
   "execution_count": 3,
   "id": "09243803",
   "metadata": {},
   "outputs": [
    {
     "name": "stdout",
     "output_type": "stream",
     "text": [
      "False\n",
      "False\n",
      "True\n",
      "True\n"
     ]
    }
   ],
   "source": [
    "def check_vowel(a):\n",
    "    if len(a)==1:\n",
    "        if a in ('a','e','i','o','u','A','E','I','O','U'):\n",
    "            return True\n",
    "        else:\n",
    "            return False\n",
    "\n",
    "print(check_vowel('t'))\n",
    "print(check_vowel('v'))\n",
    "print(check_vowel('i'))\n",
    "print(check_vowel('e'))\n"
   ]
  },
  {
   "cell_type": "code",
   "execution_count": null,
   "id": "059082b5",
   "metadata": {},
   "outputs": [],
   "source": []
  }
 ],
 "metadata": {
  "kernelspec": {
   "display_name": "Python 3",
   "language": "python",
   "name": "python3"
  },
  "language_info": {
   "codemirror_mode": {
    "name": "ipython",
    "version": 3
   },
   "file_extension": ".py",
   "mimetype": "text/x-python",
   "name": "python",
   "nbconvert_exporter": "python",
   "pygments_lexer": "ipython3",
   "version": "3.8.8"
  }
 },
 "nbformat": 4,
 "nbformat_minor": 5
}
